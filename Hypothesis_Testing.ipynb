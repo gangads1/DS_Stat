{
  "nbformat": 4,
  "nbformat_minor": 0,
  "metadata": {
    "colab": {
      "provenance": []
    },
    "kernelspec": {
      "name": "python3",
      "display_name": "Python 3"
    },
    "language_info": {
      "name": "python"
    }
  },
  "cells": [
    {
      "cell_type": "markdown",
      "source": [
        "## **Hypothesis Testing**"
      ],
      "metadata": {
        "id": "WYWAMzo4MapX"
      }
    },
    {
      "cell_type": "code",
      "execution_count": null,
      "metadata": {
        "id": "LpNKiek-Kfu7"
      },
      "outputs": [],
      "source": [
        "import pandas as pd"
      ]
    },
    {
      "cell_type": "code",
      "source": [
        "df = pd.read_csv('winequality-red.csv')"
      ],
      "metadata": {
        "id": "7D1iQPOYMSpt"
      },
      "execution_count": null,
      "outputs": []
    },
    {
      "cell_type": "code",
      "source": [
        "df.head()"
      ],
      "metadata": {
        "colab": {
          "base_uri": "https://localhost:8080/",
          "height": 268
        },
        "id": "RffAfRa4MVQ4",
        "outputId": "f2a28129-6564-4659-f14c-d9413ecf085a"
      },
      "execution_count": null,
      "outputs": [
        {
          "output_type": "execute_result",
          "data": {
            "text/plain": [
              "   fixed acidity  volatile acidity  citric acid  residual sugar  chlorides  \\\n",
              "0            7.4              0.70         0.00             1.9      0.076   \n",
              "1            7.8              0.88         0.00             2.6      0.098   \n",
              "2            7.8              0.76         0.04             2.3      0.092   \n",
              "3           11.2              0.28         0.56             1.9      0.075   \n",
              "4            7.4              0.70         0.00             1.9      0.076   \n",
              "\n",
              "   free sulfur dioxide  total sulfur dioxide  density    pH  sulphates  \\\n",
              "0                 11.0                  34.0   0.9978  3.51       0.56   \n",
              "1                 25.0                  67.0   0.9968  3.20       0.68   \n",
              "2                 15.0                  54.0   0.9970  3.26       0.65   \n",
              "3                 17.0                  60.0   0.9980  3.16       0.58   \n",
              "4                 11.0                  34.0   0.9978  3.51       0.56   \n",
              "\n",
              "   alcohol  quality  \n",
              "0      9.4        5  \n",
              "1      9.8        5  \n",
              "2      9.8        5  \n",
              "3      9.8        6  \n",
              "4      9.4        5  "
            ],
            "text/html": [
              "\n",
              "  <div id=\"df-14192b89-ed25-4131-bbc0-5e129ea719f2\">\n",
              "    <div class=\"colab-df-container\">\n",
              "      <div>\n",
              "<style scoped>\n",
              "    .dataframe tbody tr th:only-of-type {\n",
              "        vertical-align: middle;\n",
              "    }\n",
              "\n",
              "    .dataframe tbody tr th {\n",
              "        vertical-align: top;\n",
              "    }\n",
              "\n",
              "    .dataframe thead th {\n",
              "        text-align: right;\n",
              "    }\n",
              "</style>\n",
              "<table border=\"1\" class=\"dataframe\">\n",
              "  <thead>\n",
              "    <tr style=\"text-align: right;\">\n",
              "      <th></th>\n",
              "      <th>fixed acidity</th>\n",
              "      <th>volatile acidity</th>\n",
              "      <th>citric acid</th>\n",
              "      <th>residual sugar</th>\n",
              "      <th>chlorides</th>\n",
              "      <th>free sulfur dioxide</th>\n",
              "      <th>total sulfur dioxide</th>\n",
              "      <th>density</th>\n",
              "      <th>pH</th>\n",
              "      <th>sulphates</th>\n",
              "      <th>alcohol</th>\n",
              "      <th>quality</th>\n",
              "    </tr>\n",
              "  </thead>\n",
              "  <tbody>\n",
              "    <tr>\n",
              "      <th>0</th>\n",
              "      <td>7.4</td>\n",
              "      <td>0.70</td>\n",
              "      <td>0.00</td>\n",
              "      <td>1.9</td>\n",
              "      <td>0.076</td>\n",
              "      <td>11.0</td>\n",
              "      <td>34.0</td>\n",
              "      <td>0.9978</td>\n",
              "      <td>3.51</td>\n",
              "      <td>0.56</td>\n",
              "      <td>9.4</td>\n",
              "      <td>5</td>\n",
              "    </tr>\n",
              "    <tr>\n",
              "      <th>1</th>\n",
              "      <td>7.8</td>\n",
              "      <td>0.88</td>\n",
              "      <td>0.00</td>\n",
              "      <td>2.6</td>\n",
              "      <td>0.098</td>\n",
              "      <td>25.0</td>\n",
              "      <td>67.0</td>\n",
              "      <td>0.9968</td>\n",
              "      <td>3.20</td>\n",
              "      <td>0.68</td>\n",
              "      <td>9.8</td>\n",
              "      <td>5</td>\n",
              "    </tr>\n",
              "    <tr>\n",
              "      <th>2</th>\n",
              "      <td>7.8</td>\n",
              "      <td>0.76</td>\n",
              "      <td>0.04</td>\n",
              "      <td>2.3</td>\n",
              "      <td>0.092</td>\n",
              "      <td>15.0</td>\n",
              "      <td>54.0</td>\n",
              "      <td>0.9970</td>\n",
              "      <td>3.26</td>\n",
              "      <td>0.65</td>\n",
              "      <td>9.8</td>\n",
              "      <td>5</td>\n",
              "    </tr>\n",
              "    <tr>\n",
              "      <th>3</th>\n",
              "      <td>11.2</td>\n",
              "      <td>0.28</td>\n",
              "      <td>0.56</td>\n",
              "      <td>1.9</td>\n",
              "      <td>0.075</td>\n",
              "      <td>17.0</td>\n",
              "      <td>60.0</td>\n",
              "      <td>0.9980</td>\n",
              "      <td>3.16</td>\n",
              "      <td>0.58</td>\n",
              "      <td>9.8</td>\n",
              "      <td>6</td>\n",
              "    </tr>\n",
              "    <tr>\n",
              "      <th>4</th>\n",
              "      <td>7.4</td>\n",
              "      <td>0.70</td>\n",
              "      <td>0.00</td>\n",
              "      <td>1.9</td>\n",
              "      <td>0.076</td>\n",
              "      <td>11.0</td>\n",
              "      <td>34.0</td>\n",
              "      <td>0.9978</td>\n",
              "      <td>3.51</td>\n",
              "      <td>0.56</td>\n",
              "      <td>9.4</td>\n",
              "      <td>5</td>\n",
              "    </tr>\n",
              "  </tbody>\n",
              "</table>\n",
              "</div>\n",
              "      <button class=\"colab-df-convert\" onclick=\"convertToInteractive('df-14192b89-ed25-4131-bbc0-5e129ea719f2')\"\n",
              "              title=\"Convert this dataframe to an interactive table.\"\n",
              "              style=\"display:none;\">\n",
              "        \n",
              "  <svg xmlns=\"http://www.w3.org/2000/svg\" height=\"24px\"viewBox=\"0 0 24 24\"\n",
              "       width=\"24px\">\n",
              "    <path d=\"M0 0h24v24H0V0z\" fill=\"none\"/>\n",
              "    <path d=\"M18.56 5.44l.94 2.06.94-2.06 2.06-.94-2.06-.94-.94-2.06-.94 2.06-2.06.94zm-11 1L8.5 8.5l.94-2.06 2.06-.94-2.06-.94L8.5 2.5l-.94 2.06-2.06.94zm10 10l.94 2.06.94-2.06 2.06-.94-2.06-.94-.94-2.06-.94 2.06-2.06.94z\"/><path d=\"M17.41 7.96l-1.37-1.37c-.4-.4-.92-.59-1.43-.59-.52 0-1.04.2-1.43.59L10.3 9.45l-7.72 7.72c-.78.78-.78 2.05 0 2.83L4 21.41c.39.39.9.59 1.41.59.51 0 1.02-.2 1.41-.59l7.78-7.78 2.81-2.81c.8-.78.8-2.07 0-2.86zM5.41 20L4 18.59l7.72-7.72 1.47 1.35L5.41 20z\"/>\n",
              "  </svg>\n",
              "      </button>\n",
              "      \n",
              "  <style>\n",
              "    .colab-df-container {\n",
              "      display:flex;\n",
              "      flex-wrap:wrap;\n",
              "      gap: 12px;\n",
              "    }\n",
              "\n",
              "    .colab-df-convert {\n",
              "      background-color: #E8F0FE;\n",
              "      border: none;\n",
              "      border-radius: 50%;\n",
              "      cursor: pointer;\n",
              "      display: none;\n",
              "      fill: #1967D2;\n",
              "      height: 32px;\n",
              "      padding: 0 0 0 0;\n",
              "      width: 32px;\n",
              "    }\n",
              "\n",
              "    .colab-df-convert:hover {\n",
              "      background-color: #E2EBFA;\n",
              "      box-shadow: 0px 1px 2px rgba(60, 64, 67, 0.3), 0px 1px 3px 1px rgba(60, 64, 67, 0.15);\n",
              "      fill: #174EA6;\n",
              "    }\n",
              "\n",
              "    [theme=dark] .colab-df-convert {\n",
              "      background-color: #3B4455;\n",
              "      fill: #D2E3FC;\n",
              "    }\n",
              "\n",
              "    [theme=dark] .colab-df-convert:hover {\n",
              "      background-color: #434B5C;\n",
              "      box-shadow: 0px 1px 3px 1px rgba(0, 0, 0, 0.15);\n",
              "      filter: drop-shadow(0px 1px 2px rgba(0, 0, 0, 0.3));\n",
              "      fill: #FFFFFF;\n",
              "    }\n",
              "  </style>\n",
              "\n",
              "      <script>\n",
              "        const buttonEl =\n",
              "          document.querySelector('#df-14192b89-ed25-4131-bbc0-5e129ea719f2 button.colab-df-convert');\n",
              "        buttonEl.style.display =\n",
              "          google.colab.kernel.accessAllowed ? 'block' : 'none';\n",
              "\n",
              "        async function convertToInteractive(key) {\n",
              "          const element = document.querySelector('#df-14192b89-ed25-4131-bbc0-5e129ea719f2');\n",
              "          const dataTable =\n",
              "            await google.colab.kernel.invokeFunction('convertToInteractive',\n",
              "                                                     [key], {});\n",
              "          if (!dataTable) return;\n",
              "\n",
              "          const docLinkHtml = 'Like what you see? Visit the ' +\n",
              "            '<a target=\"_blank\" href=https://colab.research.google.com/notebooks/data_table.ipynb>data table notebook</a>'\n",
              "            + ' to learn more about interactive tables.';\n",
              "          element.innerHTML = '';\n",
              "          dataTable['output_type'] = 'display_data';\n",
              "          await google.colab.output.renderOutput(dataTable, element);\n",
              "          const docLink = document.createElement('div');\n",
              "          docLink.innerHTML = docLinkHtml;\n",
              "          element.appendChild(docLink);\n",
              "        }\n",
              "      </script>\n",
              "    </div>\n",
              "  </div>\n",
              "  "
            ]
          },
          "metadata": {},
          "execution_count": 12
        }
      ]
    },
    {
      "cell_type": "code",
      "source": [
        "import matplotlib.pyplot as plt\n",
        "plt.figure(figsize=(14,6))\n",
        "plt.hist(df['volatile acidity'])\n",
        "plt.show()"
      ],
      "metadata": {
        "colab": {
          "base_uri": "https://localhost:8080/",
          "height": 522
        },
        "id": "8d1gzBqAMWYH",
        "outputId": "d26abebb-77e1-4c0d-e389-665575a5c660"
      },
      "execution_count": null,
      "outputs": [
        {
          "output_type": "display_data",
          "data": {
            "text/plain": [
              "<Figure size 1400x600 with 1 Axes>"
            ],
            "image/png": "[encoded data removed]"
          },
          "metadata": {}
        }
      ]
    },
    {
      "cell_type": "markdown",
      "source": [
        "### Test Normality using shapiro-wilk test"
      ],
      "metadata": {
        "id": "pdCHNU1mOYCq"
      }
    },
    {
      "cell_type": "code",
      "source": [
        "from scipy.stats import shapiro\n",
        "\n",
        "Data_to_test  = df['volatile acidity']\n",
        "stat, p = shapiro(Data_to_test)\n",
        "\n",
        "print('stat=%.2f, p=%.30f' % (stat, p))\n",
        "\n",
        "if p > 0.05:\n",
        "  print('Normal Distribution')\n",
        "else:\n",
        "  print('Not a Normal Distribution')"
      ],
      "metadata": {
        "colab": {
          "base_uri": "https://localhost:8080/"
        },
        "id": "WHpDNMN8NftC",
        "outputId": "81befda3-f150-4bba-9f40-081168a21b2b"
      },
      "execution_count": null,
      "outputs": [
        {
          "output_type": "stream",
          "name": "stdout",
          "text": [
            "stat=0.97, p=0.000000000000000268638537394731\n",
            "Not a Normal Distribution\n"
          ]
        }
      ]
    },
    {
      "cell_type": "code",
      "source": [
        "## Lets try with random numbers\n",
        "\n",
        "from numpy.random import randn\n",
        "data_to_test = randn(100)"
      ],
      "metadata": {
        "id": "hHXFPm2YOhB3"
      },
      "execution_count": null,
      "outputs": []
    },
    {
      "cell_type": "code",
      "source": [
        "data_to_test"
      ],
      "metadata": {
        "colab": {
          "base_uri": "https://localhost:8080/"
        },
        "id": "RboZ0S6TRLCW",
        "outputId": "a3471d03-9caf-4be4-e76e-9968b14a7a5e"
      },
      "execution_count": null,
      "outputs": [
        {
          "output_type": "execute_result",
          "data": {
            "text/plain": [
              "array([-0.42733425,  1.62072542, -0.24313455,  0.20508041,  0.48537034,\n",
              "       -0.73630495, -1.24742028,  1.68223911,  0.66944015,  2.03282277,\n",
              "       -0.18045996,  0.40380083,  0.51168223,  0.025562  ,  0.24540489,\n",
              "       -2.35559494,  0.19893262,  1.5659374 ,  1.02105875, -0.28085541,\n",
              "       -0.33289295,  0.37391673, -0.73303337, -0.63358281,  0.62022806,\n",
              "       -1.21475601, -1.19705431, -0.74880122, -0.30078774,  0.32790119,\n",
              "        0.42770025, -0.69810272, -2.32500323,  0.11302833, -1.88557403,\n",
              "        0.84643966, -0.64051756, -0.68905236,  0.26077455,  1.53897588,\n",
              "        1.40875558, -0.22348221, -0.7203166 , -0.04383376,  0.3217862 ,\n",
              "       -0.913344  ,  0.51469163, -0.88272598,  1.16924796,  0.50415631,\n",
              "       -0.36309343,  0.73872483,  1.3867743 , -0.45073957, -1.15972504,\n",
              "       -3.1007199 , -0.13542834,  0.30490045,  1.17623152, -2.05058007,\n",
              "       -1.01736755,  0.13645126, -0.80488725, -1.56742257,  1.13448617,\n",
              "       -0.18471947, -1.00358227, -1.75732228, -0.35794527, -0.59862339,\n",
              "       -1.25194847,  0.70753297, -1.38525323,  0.13493732, -0.45678721,\n",
              "       -0.5562697 ,  0.19939935, -1.48967447,  2.54680469, -0.16675483,\n",
              "       -2.22005349,  0.70185043, -2.58175248,  0.33406677, -1.63835133,\n",
              "       -1.03283709,  1.14566975,  1.87076352,  0.01992731,  1.5889334 ,\n",
              "       -0.23410155, -0.15522669, -0.92907033,  0.90046726, -0.53431042,\n",
              "        0.50799496,  1.47099129, -1.23998509, -0.30912843, -0.36908833])"
            ]
          },
          "metadata": {},
          "execution_count": 16
        }
      ]
    },
    {
      "cell_type": "code",
      "source": [
        "stat, p = shapiro(data_to_test)\n",
        "\n",
        "print('stat=%.2f, p=%.30f' % (stat, p))\n",
        "\n",
        "if p > 0.05:\n",
        "  print('Normal Distribution')\n",
        "else:\n",
        "  print('Not a Normal Distribution')"
      ],
      "metadata": {
        "colab": {
          "base_uri": "https://localhost:8080/"
        },
        "id": "7bQXCr_5RM1o",
        "outputId": "7acb3a8a-8437-4874-c755-ea3732a2b0a4"
      },
      "execution_count": null,
      "outputs": [
        {
          "output_type": "stream",
          "name": "stdout",
          "text": [
            "stat=0.99, p=0.966358065605163574218750000000\n",
            "Normal Distribution\n"
          ]
        }
      ]
    },
    {
      "cell_type": "markdown",
      "source": [
        "## **K^2 Noramlity Test**: Tests if data is normally distributed\n",
        "Assumption: Observations are identically distributed"
      ],
      "metadata": {
        "id": "-5XD6TNpjI5b"
      }
    },
    {
      "cell_type": "code",
      "source": [
        "# D'Agostino-Pearsons K^2 test\n",
        "\n",
        "from scipy.stats import normaltest\n",
        "\n",
        "data_to_test = df['volatile acidity']\n",
        "\n",
        "stat, p = normaltest(data_to_test)\n",
        "\n",
        "print('stat=%.2f, p=%.30f' % (stat, p))\n",
        "\n",
        "if p > 0.05:\n",
        "  print('Normal Distribution')\n",
        "else:\n",
        "  print('Not a Normal Distribution')"
      ],
      "metadata": {
        "colab": {
          "base_uri": "https://localhost:8080/"
        },
        "id": "MjxGLUx2jfKu",
        "outputId": "8e1d5fc1-dd9d-41e9-c252-dda0f060c57f"
      },
      "execution_count": null,
      "outputs": [
        {
          "output_type": "stream",
          "name": "stdout",
          "text": [
            "stat=143.42, p=0.000000000000000000000000000000\n",
            "Not a Normal Distribution\n"
          ]
        }
      ]
    },
    {
      "cell_type": "markdown",
      "source": [
        "### Correlation Test\n",
        "#### Pearsons and Spearmans rank correlation\n",
        "Assumption: Identical and Normal Distribution"
      ],
      "metadata": {
        "id": "rycxDPL6az_6"
      }
    },
    {
      "cell_type": "code",
      "source": [
        "first_sample = df[1:30]['volatile acidity']\n",
        "second_sample = df[1:30]['pH']\n",
        "\n",
        "plt.plot(first_sample, second_sample)\n",
        "plt.show()"
      ],
      "metadata": {
        "id": "u2kLg3rNkaAV",
        "colab": {
          "base_uri": "https://localhost:8080/",
          "height": 431
        },
        "outputId": "5ff3e2f5-d173-47d0-cf6e-5362db39d254"
      },
      "execution_count": null,
      "outputs": [
        {
          "output_type": "display_data",
          "data": {
            "text/plain": [
              "<Figure size 640x480 with 1 Axes>"
            ],
            "image/png": "[encoded data removed]"
          },
          "metadata": {}
        }
      ]
    },
    {
      "cell_type": "markdown",
      "source": [
        "By visualizing the plot there is no proper correlation, lets check that spearman rank correlation, there is no relation i.e variables are not dependent on each other"
      ],
      "metadata": {
        "id": "ET5AnG5PlB2g"
      }
    },
    {
      "cell_type": "code",
      "source": [
        "# Spearman Rank correlation\n",
        "from scipy.stats import spearmanr\n",
        "stat, p = spearmanr(first_sample, second_sample)\n",
        "\n",
        "print('stat=%.3f, p=%.5f' % (stat, p))\n",
        "\n",
        "if p>0.05:\n",
        "  print('independent samples')\n",
        "else:\n",
        "  print('Dependent samples')"
      ],
      "metadata": {
        "colab": {
          "base_uri": "https://localhost:8080/"
        },
        "id": "W4ETpkZhkx6R",
        "outputId": "f54a72c7-2a90-44a1-b418-89a62c7e1e5b"
      },
      "execution_count": null,
      "outputs": [
        {
          "output_type": "stream",
          "name": "stdout",
          "text": [
            "stat=0.199, p=0.30136\n",
            "independent samples\n"
          ]
        }
      ]
    },
    {
      "cell_type": "code",
      "source": [
        "# Pearsons correlation\n",
        "from scipy.stats import pearsonr\n",
        "stat, p = pearsonr(first_sample, second_sample)\n",
        "\n",
        "print('stat=%.3f, p=%.5f' % (stat, p))\n",
        "\n",
        "if p>0.05:\n",
        "  print('independent samples')\n",
        "else:\n",
        "  print('Dependent samples')\n"
      ],
      "metadata": {
        "colab": {
          "base_uri": "https://localhost:8080/"
        },
        "id": "pZY4crdSmTsI",
        "outputId": "62217445-da51-45a3-d95f-89b9df5a401d"
      },
      "execution_count": null,
      "outputs": [
        {
          "output_type": "stream",
          "name": "stdout",
          "text": [
            "stat=0.176, p=0.36047\n",
            "independent samples\n"
          ]
        }
      ]
    },
    {
      "cell_type": "code",
      "source": [
        "# Now lets try with corelated features\n",
        "\n",
        "df[1:30].corr(method='pearson')"
      ],
      "metadata": {
        "colab": {
          "base_uri": "https://localhost:8080/",
          "height": 556
        },
        "id": "zA4NSuEtmyii",
        "outputId": "b14d1f63-5d43-4539-ab8c-22e9d2999986"
      },
      "execution_count": null,
      "outputs": [
        {
          "output_type": "execute_result",
          "data": {
            "text/plain": [
              "                      fixed acidity  volatile acidity  citric acid  \\\n",
              "fixed acidity              1.000000         -0.325296     0.553331   \n",
              "volatile acidity          -0.325296          1.000000    -0.808892   \n",
              "citric acid                0.553331         -0.808892     1.000000   \n",
              "residual sugar             0.064789          0.086848     0.163451   \n",
              "chlorides                  0.145997         -0.086997     0.302150   \n",
              "free sulfur dioxide        0.369643         -0.046489     0.273691   \n",
              "total sulfur dioxide       0.351803         -0.045020     0.356156   \n",
              "density                    0.558823         -0.018832     0.321183   \n",
              "pH                        -0.554355          0.176232    -0.402765   \n",
              "sulphates                  0.176146         -0.058765     0.404090   \n",
              "alcohol                   -0.014915         -0.116946     0.247358   \n",
              "quality                    0.232732         -0.323907     0.246825   \n",
              "\n",
              "                      residual sugar  chlorides  free sulfur dioxide  \\\n",
              "fixed acidity               0.064789   0.145997             0.369643   \n",
              "volatile acidity            0.086848  -0.086997            -0.046489   \n",
              "citric acid                 0.163451   0.302150             0.273691   \n",
              "residual sugar              1.000000  -0.069497             0.278564   \n",
              "chlorides                  -0.069497   1.000000             0.226563   \n",
              "free sulfur dioxide         0.278564   0.226563             1.000000   \n",
              "total sulfur dioxide        0.580704   0.211043             0.854553   \n",
              "density                     0.524667   0.118830             0.430067   \n",
              "pH                         -0.011351  -0.601472            -0.204240   \n",
              "sulphates                   0.074962   0.644596             0.156305   \n",
              "alcohol                     0.358012  -0.342212             0.056671   \n",
              "quality                    -0.324054  -0.037891             0.120759   \n",
              "\n",
              "                      total sulfur dioxide   density        pH  sulphates  \\\n",
              "fixed acidity                     0.351803  0.558823 -0.554355   0.176146   \n",
              "volatile acidity                 -0.045020 -0.018832  0.176232  -0.058765   \n",
              "citric acid                       0.356156  0.321183 -0.402765   0.404090   \n",
              "residual sugar                    0.580704  0.524667 -0.011351   0.074962   \n",
              "chlorides                         0.211043  0.118830 -0.601472   0.644596   \n",
              "free sulfur dioxide               0.854553  0.430067 -0.204240   0.156305   \n",
              "total sulfur dioxide              1.000000  0.523186 -0.280118   0.210051   \n",
              "density                           0.523186  1.000000 -0.181546   0.300643   \n",
              "pH                               -0.280118 -0.181546  1.000000  -0.539957   \n",
              "sulphates                         0.210051  0.300643 -0.539957   1.000000   \n",
              "alcohol                           0.229037 -0.089917  0.232744  -0.172364   \n",
              "quality                          -0.112902 -0.249689  0.007259  -0.120335   \n",
              "\n",
              "                       alcohol   quality  \n",
              "fixed acidity        -0.014915  0.232732  \n",
              "volatile acidity     -0.116946 -0.323907  \n",
              "citric acid           0.247358  0.246825  \n",
              "residual sugar        0.358012 -0.324054  \n",
              "chlorides            -0.342212 -0.037891  \n",
              "free sulfur dioxide   0.056671  0.120759  \n",
              "total sulfur dioxide  0.229037 -0.112902  \n",
              "density              -0.089917 -0.249689  \n",
              "pH                    0.232744  0.007259  \n",
              "sulphates            -0.172364 -0.120335  \n",
              "alcohol               1.000000  0.377116  \n",
              "quality               0.377116  1.000000  "
            ],
            "text/html": [
              "\n",
              "  <div id=\"df-7ecc6330-848d-4749-8039-9888062e3a4c\">\n",
              "    <div class=\"colab-df-container\">\n",
              "      <div>\n",
              "<style scoped>\n",
              "    .dataframe tbody tr th:only-of-type {\n",
              "        vertical-align: middle;\n",
              "    }\n",
              "\n",
              "    .dataframe tbody tr th {\n",
              "        vertical-align: top;\n",
              "    }\n",
              "\n",
              "    .dataframe thead th {\n",
              "        text-align: right;\n",
              "    }\n",
              "</style>\n",
              "<table border=\"1\" class=\"dataframe\">\n",
              "  <thead>\n",
              "    <tr style=\"text-align: right;\">\n",
              "      <th></th>\n",
              "      <th>fixed acidity</th>\n",
              "      <th>volatile acidity</th>\n",
              "      <th>citric acid</th>\n",
              "      <th>residual sugar</th>\n",
              "      <th>chlorides</th>\n",
              "      <th>free sulfur dioxide</th>\n",
              "      <th>total sulfur dioxide</th>\n",
              "      <th>density</th>\n",
              "      <th>pH</th>\n",
              "      <th>sulphates</th>\n",
              "      <th>alcohol</th>\n",
              "      <th>quality</th>\n",
              "    </tr>\n",
              "  </thead>\n",
              "  <tbody>\n",
              "    <tr>\n",
              "      <th>fixed acidity</th>\n",
              "      <td>1.000000</td>\n",
              "      <td>-0.325296</td>\n",
              "      <td>0.553331</td>\n",
              "      <td>0.064789</td>\n",
              "      <td>0.145997</td>\n",
              "      <td>0.369643</td>\n",
              "      <td>0.351803</td>\n",
              "      <td>0.558823</td>\n",
              "      <td>-0.554355</td>\n",
              "      <td>0.176146</td>\n",
              "      <td>-0.014915</td>\n",
              "      <td>0.232732</td>\n",
              "    </tr>\n",
              "    <tr>\n",
              "      <th>volatile acidity</th>\n",
              "      <td>-0.325296</td>\n",
              "      <td>1.000000</td>\n",
              "      <td>-0.808892</td>\n",
              "      <td>0.086848</td>\n",
              "      <td>-0.086997</td>\n",
              "      <td>-0.046489</td>\n",
              "      <td>-0.045020</td>\n",
              "      <td>-0.018832</td>\n",
              "      <td>0.176232</td>\n",
              "      <td>-0.058765</td>\n",
              "      <td>-0.116946</td>\n",
              "      <td>-0.323907</td>\n",
              "    </tr>\n",
              "    <tr>\n",
              "      <th>citric acid</th>\n",
              "      <td>0.553331</td>\n",
              "      <td>-0.808892</td>\n",
              "      <td>1.000000</td>\n",
              "      <td>0.163451</td>\n",
              "      <td>0.302150</td>\n",
              "      <td>0.273691</td>\n",
              "      <td>0.356156</td>\n",
              "      <td>0.321183</td>\n",
              "      <td>-0.402765</td>\n",
              "      <td>0.404090</td>\n",
              "      <td>0.247358</td>\n",
              "      <td>0.246825</td>\n",
              "    </tr>\n",
              "    <tr>\n",
              "      <th>residual sugar</th>\n",
              "      <td>0.064789</td>\n",
              "      <td>0.086848</td>\n",
              "      <td>0.163451</td>\n",
              "      <td>1.000000</td>\n",
              "      <td>-0.069497</td>\n",
              "      <td>0.278564</td>\n",
              "      <td>0.580704</td>\n",
              "      <td>0.524667</td>\n",
              "      <td>-0.011351</td>\n",
              "      <td>0.074962</td>\n",
              "      <td>0.358012</td>\n",
              "      <td>-0.324054</td>\n",
              "    </tr>\n",
              "    <tr>\n",
              "      <th>chlorides</th>\n",
              "      <td>0.145997</td>\n",
              "      <td>-0.086997</td>\n",
              "      <td>0.302150</td>\n",
              "      <td>-0.069497</td>\n",
              "      <td>1.000000</td>\n",
              "      <td>0.226563</td>\n",
              "      <td>0.211043</td>\n",
              "      <td>0.118830</td>\n",
              "      <td>-0.601472</td>\n",
              "      <td>0.644596</td>\n",
              "      <td>-0.342212</td>\n",
              "      <td>-0.037891</td>\n",
              "    </tr>\n",
              "    <tr>\n",
              "      <th>free sulfur dioxide</th>\n",
              "      <td>0.369643</td>\n",
              "      <td>-0.046489</td>\n",
              "      <td>0.273691</td>\n",
              "      <td>0.278564</td>\n",
              "      <td>0.226563</td>\n",
              "      <td>1.000000</td>\n",
              "      <td>0.854553</td>\n",
              "      <td>0.430067</td>\n",
              "      <td>-0.204240</td>\n",
              "      <td>0.156305</td>\n",
              "      <td>0.056671</td>\n",
              "      <td>0.120759</td>\n",
              "    </tr>\n",
              "    <tr>\n",
              "      <th>total sulfur dioxide</th>\n",
              "      <td>0.351803</td>\n",
              "      <td>-0.045020</td>\n",
              "      <td>0.356156</td>\n",
              "      <td>0.580704</td>\n",
              "      <td>0.211043</td>\n",
              "      <td>0.854553</td>\n",
              "      <td>1.000000</td>\n",
              "      <td>0.523186</td>\n",
              "      <td>-0.280118</td>\n",
              "      <td>0.210051</td>\n",
              "      <td>0.229037</td>\n",
              "      <td>-0.112902</td>\n",
              "    </tr>\n",
              "    <tr>\n",
              "      <th>density</th>\n",
              "      <td>0.558823</td>\n",
              "      <td>-0.018832</td>\n",
              "      <td>0.321183</td>\n",
              "      <td>0.524667</td>\n",
              "      <td>0.118830</td>\n",
              "      <td>0.430067</td>\n",
              "      <td>0.523186</td>\n",
              "      <td>1.000000</td>\n",
              "      <td>-0.181546</td>\n",
              "      <td>0.300643</td>\n",
              "      <td>-0.089917</td>\n",
              "      <td>-0.249689</td>\n",
              "    </tr>\n",
              "    <tr>\n",
              "      <th>pH</th>\n",
              "      <td>-0.554355</td>\n",
              "      <td>0.176232</td>\n",
              "      <td>-0.402765</td>\n",
              "      <td>-0.011351</td>\n",
              "      <td>-0.601472</td>\n",
              "      <td>-0.204240</td>\n",
              "      <td>-0.280118</td>\n",
              "      <td>-0.181546</td>\n",
              "      <td>1.000000</td>\n",
              "      <td>-0.539957</td>\n",
              "      <td>0.232744</td>\n",
              "      <td>0.007259</td>\n",
              "    </tr>\n",
              "    <tr>\n",
              "      <th>sulphates</th>\n",
              "      <td>0.176146</td>\n",
              "      <td>-0.058765</td>\n",
              "      <td>0.404090</td>\n",
              "      <td>0.074962</td>\n",
              "      <td>0.644596</td>\n",
              "      <td>0.156305</td>\n",
              "      <td>0.210051</td>\n",
              "      <td>0.300643</td>\n",
              "      <td>-0.539957</td>\n",
              "      <td>1.000000</td>\n",
              "      <td>-0.172364</td>\n",
              "      <td>-0.120335</td>\n",
              "    </tr>\n",
              "    <tr>\n",
              "      <th>alcohol</th>\n",
              "      <td>-0.014915</td>\n",
              "      <td>-0.116946</td>\n",
              "      <td>0.247358</td>\n",
              "      <td>0.358012</td>\n",
              "      <td>-0.342212</td>\n",
              "      <td>0.056671</td>\n",
              "      <td>0.229037</td>\n",
              "      <td>-0.089917</td>\n",
              "      <td>0.232744</td>\n",
              "      <td>-0.172364</td>\n",
              "      <td>1.000000</td>\n",
              "      <td>0.377116</td>\n",
              "    </tr>\n",
              "    <tr>\n",
              "      <th>quality</th>\n",
              "      <td>0.232732</td>\n",
              "      <td>-0.323907</td>\n",
              "      <td>0.246825</td>\n",
              "      <td>-0.324054</td>\n",
              "      <td>-0.037891</td>\n",
              "      <td>0.120759</td>\n",
              "      <td>-0.112902</td>\n",
              "      <td>-0.249689</td>\n",
              "      <td>0.007259</td>\n",
              "      <td>-0.120335</td>\n",
              "      <td>0.377116</td>\n",
              "      <td>1.000000</td>\n",
              "    </tr>\n",
              "  </tbody>\n",
              "</table>\n",
              "</div>\n",
              "      <button class=\"colab-df-convert\" onclick=\"convertToInteractive('df-7ecc6330-848d-4749-8039-9888062e3a4c')\"\n",
              "              title=\"Convert this dataframe to an interactive table.\"\n",
              "              style=\"display:none;\">\n",
              "        \n",
              "  <svg xmlns=\"http://www.w3.org/2000/svg\" height=\"24px\"viewBox=\"0 0 24 24\"\n",
              "       width=\"24px\">\n",
              "    <path d=\"M0 0h24v24H0V0z\" fill=\"none\"/>\n",
              "    <path d=\"M18.56 5.44l.94 2.06.94-2.06 2.06-.94-2.06-.94-.94-2.06-.94 2.06-2.06.94zm-11 1L8.5 8.5l.94-2.06 2.06-.94-2.06-.94L8.5 2.5l-.94 2.06-2.06.94zm10 10l.94 2.06.94-2.06 2.06-.94-2.06-.94-.94-2.06-.94 2.06-2.06.94z\"/><path d=\"M17.41 7.96l-1.37-1.37c-.4-.4-.92-.59-1.43-.59-.52 0-1.04.2-1.43.59L10.3 9.45l-7.72 7.72c-.78.78-.78 2.05 0 2.83L4 21.41c.39.39.9.59 1.41.59.51 0 1.02-.2 1.41-.59l7.78-7.78 2.81-2.81c.8-.78.8-2.07 0-2.86zM5.41 20L4 18.59l7.72-7.72 1.47 1.35L5.41 20z\"/>\n",
              "  </svg>\n",
              "      </button>\n",
              "      \n",
              "  <style>\n",
              "    .colab-df-container {\n",
              "      display:flex;\n",
              "      flex-wrap:wrap;\n",
              "      gap: 12px;\n",
              "    }\n",
              "\n",
              "    .colab-df-convert {\n",
              "      background-color: #E8F0FE;\n",
              "      border: none;\n",
              "      border-radius: 50%;\n",
              "      cursor: pointer;\n",
              "      display: none;\n",
              "      fill: #1967D2;\n",
              "      height: 32px;\n",
              "      padding: 0 0 0 0;\n",
              "      width: 32px;\n",
              "    }\n",
              "\n",
              "    .colab-df-convert:hover {\n",
              "      background-color: #E2EBFA;\n",
              "      box-shadow: 0px 1px 2px rgba(60, 64, 67, 0.3), 0px 1px 3px 1px rgba(60, 64, 67, 0.15);\n",
              "      fill: #174EA6;\n",
              "    }\n",
              "\n",
              "    [theme=dark] .colab-df-convert {\n",
              "      background-color: #3B4455;\n",
              "      fill: #D2E3FC;\n",
              "    }\n",
              "\n",
              "    [theme=dark] .colab-df-convert:hover {\n",
              "      background-color: #434B5C;\n",
              "      box-shadow: 0px 1px 3px 1px rgba(0, 0, 0, 0.15);\n",
              "      filter: drop-shadow(0px 1px 2px rgba(0, 0, 0, 0.3));\n",
              "      fill: #FFFFFF;\n",
              "    }\n",
              "  </style>\n",
              "\n",
              "      <script>\n",
              "        const buttonEl =\n",
              "          document.querySelector('#df-7ecc6330-848d-4749-8039-9888062e3a4c button.colab-df-convert');\n",
              "        buttonEl.style.display =\n",
              "          google.colab.kernel.accessAllowed ? 'block' : 'none';\n",
              "\n",
              "        async function convertToInteractive(key) {\n",
              "          const element = document.querySelector('#df-7ecc6330-848d-4749-8039-9888062e3a4c');\n",
              "          const dataTable =\n",
              "            await google.colab.kernel.invokeFunction('convertToInteractive',\n",
              "                                                     [key], {});\n",
              "          if (!dataTable) return;\n",
              "\n",
              "          const docLinkHtml = 'Like what you see? Visit the ' +\n",
              "            '<a target=\"_blank\" href=https://colab.research.google.com/notebooks/data_table.ipynb>data table notebook</a>'\n",
              "            + ' to learn more about interactive tables.';\n",
              "          element.innerHTML = '';\n",
              "          dataTable['output_type'] = 'display_data';\n",
              "          await google.colab.output.renderOutput(dataTable, element);\n",
              "          const docLink = document.createElement('div');\n",
              "          docLink.innerHTML = docLinkHtml;\n",
              "          element.appendChild(docLink);\n",
              "        }\n",
              "      </script>\n",
              "    </div>\n",
              "  </div>\n",
              "  "
            ]
          },
          "metadata": {},
          "execution_count": 23
        }
      ]
    },
    {
      "cell_type": "markdown",
      "source": [
        "WE can notice that from above table, free sulfur dioxide and total sulfur dioxide having 0.85 correlation coefficient. Lets try with these variables."
      ],
      "metadata": {
        "id": "PMPoGHHXnlYQ"
      }
    },
    {
      "cell_type": "code",
      "source": [
        "first_sample = df[1:30]['free sulfur dioxide']\n",
        "second_sample = df[1:30]['total sulfur dioxide']\n",
        "\n",
        "plt.plot(first_sample, second_sample)\n",
        "plt.show()"
      ],
      "metadata": {
        "colab": {
          "base_uri": "https://localhost:8080/",
          "height": 430
        },
        "id": "3I4NsoJ4nDv3",
        "outputId": "2f681905-bbc9-4d27-833e-839caeec6d47"
      },
      "execution_count": null,
      "outputs": [
        {
          "output_type": "display_data",
          "data": {
            "text/plain": [
              "<Figure size 640x480 with 1 Axes>"
            ],
            "image/png": "[encoded data removed]"
          },
          "metadata": {}
        }
      ]
    },
    {
      "cell_type": "markdown",
      "source": [
        "We can see by plot there is correlation"
      ],
      "metadata": {
        "id": "r0zuyVMxoRdS"
      }
    },
    {
      "cell_type": "code",
      "source": [
        "# Spearman Rank correlation\n",
        "from scipy.stats import spearmanr\n",
        "stat, p = spearmanr(first_sample, second_sample)\n",
        "\n",
        "print('stat=%.3f, p=%.5f' % (stat, p))\n",
        "\n",
        "if p>0.05:\n",
        "  print('independent samples')\n",
        "else:\n",
        "  print('Dependent samples')"
      ],
      "metadata": {
        "colab": {
          "base_uri": "https://localhost:8080/"
        },
        "id": "ev8kpBtqoNpS",
        "outputId": "7e1d49e5-b4a4-489c-9dc3-29dc2e1b356a"
      },
      "execution_count": null,
      "outputs": [
        {
          "output_type": "stream",
          "name": "stdout",
          "text": [
            "stat=0.805, p=0.00000\n",
            "Dependent samples\n"
          ]
        }
      ]
    },
    {
      "cell_type": "code",
      "source": [
        "# Pearsons correlation\n",
        "from scipy.stats import pearsonr\n",
        "stat, p = pearsonr(first_sample, second_sample)\n",
        "\n",
        "print('stat=%.3f, p=%.5f' % (stat, p))\n",
        "\n",
        "if p>0.05:\n",
        "  print('independent samples')\n",
        "else:\n",
        "  print('Dependent samples')\n"
      ],
      "metadata": {
        "colab": {
          "base_uri": "https://localhost:8080/"
        },
        "id": "WupxpoZKoeYj",
        "outputId": "ce4b89f6-194c-48b1-a0b7-4a51aa9ab98a"
      },
      "execution_count": null,
      "outputs": [
        {
          "output_type": "stream",
          "name": "stdout",
          "text": [
            "stat=0.855, p=0.00000\n",
            "Dependent samples\n"
          ]
        }
      ]
    },
    {
      "cell_type": "markdown",
      "source": [
        "This is correlation for two continous variables."
      ],
      "metadata": {
        "id": "VXtdC0FWo2XG"
      }
    },
    {
      "cell_type": "markdown",
      "source": [
        "### **Correlation of two categorical variables: Chi square test**\n",
        "\n",
        "1. Tests whether two categorical variables are related or independent\n",
        "2. Assumptions: independent observation, size in each box of contigency table > 25"
      ],
      "metadata": {
        "id": "4C38Ll_oo_TT"
      }
    },
    {
      "cell_type": "code",
      "source": [
        "df = pd.read_csv('loan_prediction.csv')"
      ],
      "metadata": {
        "id": "8ZiSwhXVo9V3"
      },
      "execution_count": null,
      "outputs": []
    },
    {
      "cell_type": "code",
      "source": [
        "df.head()"
      ],
      "metadata": {
        "colab": {
          "base_uri": "https://localhost:8080/",
          "height": 288
        },
        "id": "e3WOQRKk68Nf",
        "outputId": "c96cc1d1-ce95-4aeb-8b91-1790a012b6c9"
      },
      "execution_count": null,
      "outputs": [
        {
          "output_type": "execute_result",
          "data": {
            "text/plain": [
              "    Loan_ID Gender Married Dependents     Education Self_Employed  \\\n",
              "0  LP001002   Male      No          0      Graduate            No   \n",
              "1  LP001003   Male     Yes          1      Graduate            No   \n",
              "2  LP001005   Male     Yes          0      Graduate           Yes   \n",
              "3  LP001006   Male     Yes          0  Not Graduate            No   \n",
              "4  LP001008   Male      No          0      Graduate            No   \n",
              "\n",
              "   ApplicantIncome  CoapplicantIncome  LoanAmount  Loan_Amount_Term  \\\n",
              "0             5849                0.0         NaN             360.0   \n",
              "1             4583             1508.0       128.0             360.0   \n",
              "2             3000                0.0        66.0             360.0   \n",
              "3             2583             2358.0       120.0             360.0   \n",
              "4             6000                0.0       141.0             360.0   \n",
              "\n",
              "   Credit_History Property_Area Loan_Status  \n",
              "0             1.0         Urban           Y  \n",
              "1             1.0         Rural           N  \n",
              "2             1.0         Urban           Y  \n",
              "3             1.0         Urban           Y  \n",
              "4             1.0         Urban           Y  "
            ],
            "text/html": [
              "\n",
              "  <div id=\"df-41b41f28-e05a-4c4e-8464-7a012839ab1d\">\n",
              "    <div class=\"colab-df-container\">\n",
              "      <div>\n",
              "<style scoped>\n",
              "    .dataframe tbody tr th:only-of-type {\n",
              "        vertical-align: middle;\n",
              "    }\n",
              "\n",
              "    .dataframe tbody tr th {\n",
              "        vertical-align: top;\n",
              "    }\n",
              "\n",
              "    .dataframe thead th {\n",
              "        text-align: right;\n",
              "    }\n",
              "</style>\n",
              "<table border=\"1\" class=\"dataframe\">\n",
              "  <thead>\n",
              "    <tr style=\"text-align: right;\">\n",
              "      <th></th>\n",
              "      <th>Loan_ID</th>\n",
              "      <th>Gender</th>\n",
              "      <th>Married</th>\n",
              "      <th>Dependents</th>\n",
              "      <th>Education</th>\n",
              "      <th>Self_Employed</th>\n",
              "      <th>ApplicantIncome</th>\n",
              "      <th>CoapplicantIncome</th>\n",
              "      <th>LoanAmount</th>\n",
              "      <th>Loan_Amount_Term</th>\n",
              "      <th>Credit_History</th>\n",
              "      <th>Property_Area</th>\n",
              "      <th>Loan_Status</th>\n",
              "    </tr>\n",
              "  </thead>\n",
              "  <tbody>\n",
              "    <tr>\n",
              "      <th>0</th>\n",
              "      <td>LP001002</td>\n",
              "      <td>Male</td>\n",
              "      <td>No</td>\n",
              "      <td>0</td>\n",
              "      <td>Graduate</td>\n",
              "      <td>No</td>\n",
              "      <td>5849</td>\n",
              "      <td>0.0</td>\n",
              "      <td>NaN</td>\n",
              "      <td>360.0</td>\n",
              "      <td>1.0</td>\n",
              "      <td>Urban</td>\n",
              "      <td>Y</td>\n",
              "    </tr>\n",
              "    <tr>\n",
              "      <th>1</th>\n",
              "      <td>LP001003</td>\n",
              "      <td>Male</td>\n",
              "      <td>Yes</td>\n",
              "      <td>1</td>\n",
              "      <td>Graduate</td>\n",
              "      <td>No</td>\n",
              "      <td>4583</td>\n",
              "      <td>1508.0</td>\n",
              "      <td>128.0</td>\n",
              "      <td>360.0</td>\n",
              "      <td>1.0</td>\n",
              "      <td>Rural</td>\n",
              "      <td>N</td>\n",
              "    </tr>\n",
              "    <tr>\n",
              "      <th>2</th>\n",
              "      <td>LP001005</td>\n",
              "      <td>Male</td>\n",
              "      <td>Yes</td>\n",
              "      <td>0</td>\n",
              "      <td>Graduate</td>\n",
              "      <td>Yes</td>\n",
              "      <td>3000</td>\n",
              "      <td>0.0</td>\n",
              "      <td>66.0</td>\n",
              "      <td>360.0</td>\n",
              "      <td>1.0</td>\n",
              "      <td>Urban</td>\n",
              "      <td>Y</td>\n",
              "    </tr>\n",
              "    <tr>\n",
              "      <th>3</th>\n",
              "      <td>LP001006</td>\n",
              "      <td>Male</td>\n",
              "      <td>Yes</td>\n",
              "      <td>0</td>\n",
              "      <td>Not Graduate</td>\n",
              "      <td>No</td>\n",
              "      <td>2583</td>\n",
              "      <td>2358.0</td>\n",
              "      <td>120.0</td>\n",
              "      <td>360.0</td>\n",
              "      <td>1.0</td>\n",
              "      <td>Urban</td>\n",
              "      <td>Y</td>\n",
              "    </tr>\n",
              "    <tr>\n",
              "      <th>4</th>\n",
              "      <td>LP001008</td>\n",
              "      <td>Male</td>\n",
              "      <td>No</td>\n",
              "      <td>0</td>\n",
              "      <td>Graduate</td>\n",
              "      <td>No</td>\n",
              "      <td>6000</td>\n",
              "      <td>0.0</td>\n",
              "      <td>141.0</td>\n",
              "      <td>360.0</td>\n",
              "      <td>1.0</td>\n",
              "      <td>Urban</td>\n",
              "      <td>Y</td>\n",
              "    </tr>\n",
              "  </tbody>\n",
              "</table>\n",
              "</div>\n",
              "      <button class=\"colab-df-convert\" onclick=\"convertToInteractive('df-41b41f28-e05a-4c4e-8464-7a012839ab1d')\"\n",
              "              title=\"Convert this dataframe to an interactive table.\"\n",
              "              style=\"display:none;\">\n",
              "        \n",
              "  <svg xmlns=\"http://www.w3.org/2000/svg\" height=\"24px\"viewBox=\"0 0 24 24\"\n",
              "       width=\"24px\">\n",
              "    <path d=\"M0 0h24v24H0V0z\" fill=\"none\"/>\n",
              "    <path d=\"M18.56 5.44l.94 2.06.94-2.06 2.06-.94-2.06-.94-.94-2.06-.94 2.06-2.06.94zm-11 1L8.5 8.5l.94-2.06 2.06-.94-2.06-.94L8.5 2.5l-.94 2.06-2.06.94zm10 10l.94 2.06.94-2.06 2.06-.94-2.06-.94-.94-2.06-.94 2.06-2.06.94z\"/><path d=\"M17.41 7.96l-1.37-1.37c-.4-.4-.92-.59-1.43-.59-.52 0-1.04.2-1.43.59L10.3 9.45l-7.72 7.72c-.78.78-.78 2.05 0 2.83L4 21.41c.39.39.9.59 1.41.59.51 0 1.02-.2 1.41-.59l7.78-7.78 2.81-2.81c.8-.78.8-2.07 0-2.86zM5.41 20L4 18.59l7.72-7.72 1.47 1.35L5.41 20z\"/>\n",
              "  </svg>\n",
              "      </button>\n",
              "      \n",
              "  <style>\n",
              "    .colab-df-container {\n",
              "      display:flex;\n",
              "      flex-wrap:wrap;\n",
              "      gap: 12px;\n",
              "    }\n",
              "\n",
              "    .colab-df-convert {\n",
              "      background-color: #E8F0FE;\n",
              "      border: none;\n",
              "      border-radius: 50%;\n",
              "      cursor: pointer;\n",
              "      display: none;\n",
              "      fill: #1967D2;\n",
              "      height: 32px;\n",
              "      padding: 0 0 0 0;\n",
              "      width: 32px;\n",
              "    }\n",
              "\n",
              "    .colab-df-convert:hover {\n",
              "      background-color: #E2EBFA;\n",
              "      box-shadow: 0px 1px 2px rgba(60, 64, 67, 0.3), 0px 1px 3px 1px rgba(60, 64, 67, 0.15);\n",
              "      fill: #174EA6;\n",
              "    }\n",
              "\n",
              "    [theme=dark] .colab-df-convert {\n",
              "      background-color: #3B4455;\n",
              "      fill: #D2E3FC;\n",
              "    }\n",
              "\n",
              "    [theme=dark] .colab-df-convert:hover {\n",
              "      background-color: #434B5C;\n",
              "      box-shadow: 0px 1px 3px 1px rgba(0, 0, 0, 0.15);\n",
              "      filter: drop-shadow(0px 1px 2px rgba(0, 0, 0, 0.3));\n",
              "      fill: #FFFFFF;\n",
              "    }\n",
              "  </style>\n",
              "\n",
              "      <script>\n",
              "        const buttonEl =\n",
              "          document.querySelector('#df-41b41f28-e05a-4c4e-8464-7a012839ab1d button.colab-df-convert');\n",
              "        buttonEl.style.display =\n",
              "          google.colab.kernel.accessAllowed ? 'block' : 'none';\n",
              "\n",
              "        async function convertToInteractive(key) {\n",
              "          const element = document.querySelector('#df-41b41f28-e05a-4c4e-8464-7a012839ab1d');\n",
              "          const dataTable =\n",
              "            await google.colab.kernel.invokeFunction('convertToInteractive',\n",
              "                                                     [key], {});\n",
              "          if (!dataTable) return;\n",
              "\n",
              "          const docLinkHtml = 'Like what you see? Visit the ' +\n",
              "            '<a target=\"_blank\" href=https://colab.research.google.com/notebooks/data_table.ipynb>data table notebook</a>'\n",
              "            + ' to learn more about interactive tables.';\n",
              "          element.innerHTML = '';\n",
              "          dataTable['output_type'] = 'display_data';\n",
              "          await google.colab.output.renderOutput(dataTable, element);\n",
              "          const docLink = document.createElement('div');\n",
              "          docLink.innerHTML = docLinkHtml;\n",
              "          element.appendChild(docLink);\n",
              "        }\n",
              "      </script>\n",
              "    </div>\n",
              "  </div>\n",
              "  "
            ]
          },
          "metadata": {},
          "execution_count": 28
        }
      ]
    },
    {
      "cell_type": "code",
      "source": [
        "contigency_table = pd.crosstab(df['Education'], df['Loan_Status'], margins=False)\n",
        "contigency_table\n"
      ],
      "metadata": {
        "colab": {
          "base_uri": "https://localhost:8080/",
          "height": 143
        },
        "id": "UMt1OXaZ6-l_",
        "outputId": "08c5c78f-1c46-40c2-feb1-147c9e92e68f"
      },
      "execution_count": null,
      "outputs": [
        {
          "output_type": "execute_result",
          "data": {
            "text/plain": [
              "Loan_Status     N    Y\n",
              "Education             \n",
              "Graduate      140  340\n",
              "Not Graduate   52   82"
            ],
            "text/html": [
              "\n",
              "  <div id=\"df-fbc31c39-0cc2-441f-bee2-d83459225584\">\n",
              "    <div class=\"colab-df-container\">\n",
              "      <div>\n",
              "<style scoped>\n",
              "    .dataframe tbody tr th:only-of-type {\n",
              "        vertical-align: middle;\n",
              "    }\n",
              "\n",
              "    .dataframe tbody tr th {\n",
              "        vertical-align: top;\n",
              "    }\n",
              "\n",
              "    .dataframe thead th {\n",
              "        text-align: right;\n",
              "    }\n",
              "</style>\n",
              "<table border=\"1\" class=\"dataframe\">\n",
              "  <thead>\n",
              "    <tr style=\"text-align: right;\">\n",
              "      <th>Loan_Status</th>\n",
              "      <th>N</th>\n",
              "      <th>Y</th>\n",
              "    </tr>\n",
              "    <tr>\n",
              "      <th>Education</th>\n",
              "      <th></th>\n",
              "      <th></th>\n",
              "    </tr>\n",
              "  </thead>\n",
              "  <tbody>\n",
              "    <tr>\n",
              "      <th>Graduate</th>\n",
              "      <td>140</td>\n",
              "      <td>340</td>\n",
              "    </tr>\n",
              "    <tr>\n",
              "      <th>Not Graduate</th>\n",
              "      <td>52</td>\n",
              "      <td>82</td>\n",
              "    </tr>\n",
              "  </tbody>\n",
              "</table>\n",
              "</div>\n",
              "      <button class=\"colab-df-convert\" onclick=\"convertToInteractive('df-fbc31c39-0cc2-441f-bee2-d83459225584')\"\n",
              "              title=\"Convert this dataframe to an interactive table.\"\n",
              "              style=\"display:none;\">\n",
              "        \n",
              "  <svg xmlns=\"http://www.w3.org/2000/svg\" height=\"24px\"viewBox=\"0 0 24 24\"\n",
              "       width=\"24px\">\n",
              "    <path d=\"M0 0h24v24H0V0z\" fill=\"none\"/>\n",
              "    <path d=\"M18.56 5.44l.94 2.06.94-2.06 2.06-.94-2.06-.94-.94-2.06-.94 2.06-2.06.94zm-11 1L8.5 8.5l.94-2.06 2.06-.94-2.06-.94L8.5 2.5l-.94 2.06-2.06.94zm10 10l.94 2.06.94-2.06 2.06-.94-2.06-.94-.94-2.06-.94 2.06-2.06.94z\"/><path d=\"M17.41 7.96l-1.37-1.37c-.4-.4-.92-.59-1.43-.59-.52 0-1.04.2-1.43.59L10.3 9.45l-7.72 7.72c-.78.78-.78 2.05 0 2.83L4 21.41c.39.39.9.59 1.41.59.51 0 1.02-.2 1.41-.59l7.78-7.78 2.81-2.81c.8-.78.8-2.07 0-2.86zM5.41 20L4 18.59l7.72-7.72 1.47 1.35L5.41 20z\"/>\n",
              "  </svg>\n",
              "      </button>\n",
              "      \n",
              "  <style>\n",
              "    .colab-df-container {\n",
              "      display:flex;\n",
              "      flex-wrap:wrap;\n",
              "      gap: 12px;\n",
              "    }\n",
              "\n",
              "    .colab-df-convert {\n",
              "      background-color: #E8F0FE;\n",
              "      border: none;\n",
              "      border-radius: 50%;\n",
              "      cursor: pointer;\n",
              "      display: none;\n",
              "      fill: #1967D2;\n",
              "      height: 32px;\n",
              "      padding: 0 0 0 0;\n",
              "      width: 32px;\n",
              "    }\n",
              "\n",
              "    .colab-df-convert:hover {\n",
              "      background-color: #E2EBFA;\n",
              "      box-shadow: 0px 1px 2px rgba(60, 64, 67, 0.3), 0px 1px 3px 1px rgba(60, 64, 67, 0.15);\n",
              "      fill: #174EA6;\n",
              "    }\n",
              "\n",
              "    [theme=dark] .colab-df-convert {\n",
              "      background-color: #3B4455;\n",
              "      fill: #D2E3FC;\n",
              "    }\n",
              "\n",
              "    [theme=dark] .colab-df-convert:hover {\n",
              "      background-color: #434B5C;\n",
              "      box-shadow: 0px 1px 3px 1px rgba(0, 0, 0, 0.15);\n",
              "      filter: drop-shadow(0px 1px 2px rgba(0, 0, 0, 0.3));\n",
              "      fill: #FFFFFF;\n",
              "    }\n",
              "  </style>\n",
              "\n",
              "      <script>\n",
              "        const buttonEl =\n",
              "          document.querySelector('#df-fbc31c39-0cc2-441f-bee2-d83459225584 button.colab-df-convert');\n",
              "        buttonEl.style.display =\n",
              "          google.colab.kernel.accessAllowed ? 'block' : 'none';\n",
              "\n",
              "        async function convertToInteractive(key) {\n",
              "          const element = document.querySelector('#df-fbc31c39-0cc2-441f-bee2-d83459225584');\n",
              "          const dataTable =\n",
              "            await google.colab.kernel.invokeFunction('convertToInteractive',\n",
              "                                                     [key], {});\n",
              "          if (!dataTable) return;\n",
              "\n",
              "          const docLinkHtml = 'Like what you see? Visit the ' +\n",
              "            '<a target=\"_blank\" href=https://colab.research.google.com/notebooks/data_table.ipynb>data table notebook</a>'\n",
              "            + ' to learn more about interactive tables.';\n",
              "          element.innerHTML = '';\n",
              "          dataTable['output_type'] = 'display_data';\n",
              "          await google.colab.output.renderOutput(dataTable, element);\n",
              "          const docLink = document.createElement('div');\n",
              "          docLink.innerHTML = docLinkHtml;\n",
              "          element.appendChild(docLink);\n",
              "        }\n",
              "      </script>\n",
              "    </div>\n",
              "  </div>\n",
              "  "
            ]
          },
          "metadata": {},
          "execution_count": 29
        }
      ]
    },
    {
      "cell_type": "code",
      "source": [
        "from scipy.stats import chi2_contingency\n",
        "stat, p, dof, expected = chi2_contingency(contigency_table)\n",
        "\n",
        "print('stat=%.3f, p=%.3f' % (stat, p))\n",
        "if p>0.05:\n",
        "  print('independent categories')\n",
        "else:\n",
        "  print('dependent categories')"
      ],
      "metadata": {
        "colab": {
          "base_uri": "https://localhost:8080/"
        },
        "id": "206-ZRx37eG-",
        "outputId": "76f20b4f-7216-4f8d-b302-882d3e79e376"
      },
      "execution_count": null,
      "outputs": [
        {
          "output_type": "stream",
          "name": "stdout",
          "text": [
            "stat=4.091, p=0.043\n",
            "dependent categories\n"
          ]
        }
      ]
    },
    {
      "cell_type": "code",
      "source": [
        "contigency_data = [[25,125],[1200, 240]]"
      ],
      "metadata": {
        "id": "I4upri948rNy"
      },
      "execution_count": null,
      "outputs": []
    },
    {
      "cell_type": "code",
      "source": [
        "stat, p, dof, expected = chi2_contingency(contigency_data)\n",
        "\n",
        "print('stat=%.3f, p=%.3f' % (stat, p))\n",
        "if p>0.05:\n",
        "  print('independent categories')\n",
        "else:\n",
        "  print('dependent categories')"
      ],
      "metadata": {
        "colab": {
          "base_uri": "https://localhost:8080/"
        },
        "id": "aGEXwLyC9v5D",
        "outputId": "922e8640-53fe-48c6-cce6-3de3328c8cb2"
      },
      "execution_count": null,
      "outputs": [
        {
          "output_type": "stream",
          "name": "stdout",
          "text": [
            "stat=337.622, p=0.000\n",
            "dependent categories\n"
          ]
        }
      ]
    },
    {
      "cell_type": "markdown",
      "source": [
        "## **Parametric Test**\n",
        "Assumption: Data is normally distributed\n",
        "#### T-test"
      ],
      "metadata": {
        "id": "NGsW5SPerf5c"
      }
    },
    {
      "cell_type": "code",
      "source": [
        "# scores of me and virat\n",
        "\n",
        "my_score = [23,21,31,20,19,35,26,22,21,19]\n",
        "virat_score = [46,42,62,40,38,70,52,44,42,38]"
      ],
      "metadata": {
        "id": "Lo68X8x4rxv1"
      },
      "execution_count": null,
      "outputs": []
    },
    {
      "cell_type": "code",
      "source": [
        "# Lets check mean of our scores\n",
        "\n",
        "import numpy as np\n",
        "print('Ganga mean score:',np.mean(my_score))\n",
        "print('Virat mean score:',np.mean(virat_score))"
      ],
      "metadata": {
        "colab": {
          "base_uri": "https://localhost:8080/"
        },
        "id": "9uGBu78_tCW3",
        "outputId": "79d31392-284b-4da2-d0e9-56deb025fc8b"
      },
      "execution_count": null,
      "outputs": [
        {
          "output_type": "stream",
          "name": "stdout",
          "text": [
            "Ganga mean score: 23.7\n",
            "Virat mean score: 47.4\n"
          ]
        }
      ]
    },
    {
      "cell_type": "code",
      "source": [
        "# one sample T-test\n",
        "\n",
        "import scipy\n",
        "scipy.stats.ttest_1samp(my_score,15)"
      ],
      "metadata": {
        "colab": {
          "base_uri": "https://localhost:8080/"
        },
        "id": "wX5epRX7td_Y",
        "outputId": "b13d2e61-7b5c-419e-cea1-1086f4c2c05d"
      },
      "execution_count": null,
      "outputs": [
        {
          "output_type": "execute_result",
          "data": {
            "text/plain": [
              "TtestResult(statistic=5.098084116200569, pvalue=0.0006468242923305229, df=9)"
            ]
          },
          "metadata": {},
          "execution_count": 4
        }
      ]
    },
    {
      "cell_type": "markdown",
      "source": [
        "Here i set 15 as my mean score, pvalue not significant\n",
        "lets try with 20\n",
        "\n"
      ],
      "metadata": {
        "id": "Pj-LiYgIuBE_"
      }
    },
    {
      "cell_type": "code",
      "source": [
        "scipy.stats.ttest_1samp(my_score,20)"
      ],
      "metadata": {
        "colab": {
          "base_uri": "https://localhost:8080/"
        },
        "id": "w5KzPO98tzhy",
        "outputId": "27d67586-069f-4da7-8173-00fb306b24cc"
      },
      "execution_count": null,
      "outputs": [
        {
          "output_type": "execute_result",
          "data": {
            "text/plain": [
              "TtestResult(statistic=2.1681507160852993, pvalue=0.058288767709368715, df=9)"
            ]
          },
          "metadata": {},
          "execution_count": 5
        }
      ]
    },
    {
      "cell_type": "markdown",
      "source": [
        "Now p value is greater than 0.05, my mean value is near to test static."
      ],
      "metadata": {
        "id": "8vS3UsVwuYJb"
      }
    },
    {
      "cell_type": "code",
      "source": [
        "scipy.stats.ttest_1samp(my_score,23.7)"
      ],
      "metadata": {
        "colab": {
          "base_uri": "https://localhost:8080/"
        },
        "id": "K3qUc0UGuTbY",
        "outputId": "9b91aaf4-7c01-4de3-e0dc-27bc20fa937d"
      },
      "execution_count": null,
      "outputs": [
        {
          "output_type": "execute_result",
          "data": {
            "text/plain": [
              "TtestResult(statistic=0.0, pvalue=1.0, df=9)"
            ]
          },
          "metadata": {},
          "execution_count": 6
        }
      ]
    },
    {
      "cell_type": "code",
      "source": [
        "# Independent sample T-test\n",
        "\n",
        "scipy.stats.ttest_ind(my_score,virat_score)"
      ],
      "metadata": {
        "colab": {
          "base_uri": "https://localhost:8080/"
        },
        "id": "BJeGScOswFby",
        "outputId": "d88347c4-2980-4bb4-fed4-2fdcee2e0dd0"
      },
      "execution_count": null,
      "outputs": [
        {
          "output_type": "execute_result",
          "data": {
            "text/plain": [
              "Ttest_indResult(statistic=-6.210850679090182, pvalue=7.3390410384768156e-06)"
            ]
          },
          "metadata": {},
          "execution_count": 7
        }
      ]
    },
    {
      "cell_type": "markdown",
      "source": [
        "Here my null hypothesis is means of two samples is equal, but i got very less p value hence null hypothesis rejected."
      ],
      "metadata": {
        "id": "0l-OT0KsyEaV"
      }
    },
    {
      "cell_type": "code",
      "source": [
        "# Paired sample T-test\n",
        "\n",
        "my_score_second_tour = [46,42,62,40,38,70,52,44,42,38]"
      ],
      "metadata": {
        "id": "KdcZW4ZpxlVH"
      },
      "execution_count": null,
      "outputs": []
    },
    {
      "cell_type": "code",
      "source": [
        "scipy.stats.ttest_rel(my_score,my_score_second_tour)"
      ],
      "metadata": {
        "colab": {
          "base_uri": "https://localhost:8080/"
        },
        "id": "nnbtFjKczXMG",
        "outputId": "706e4262-1ed1-463b-a4d3-25ba26a2ff80"
      },
      "execution_count": null,
      "outputs": [
        {
          "output_type": "execute_result",
          "data": {
            "text/plain": [
              "TtestResult(statistic=-13.88788431654638, pvalue=2.1983272300073563e-07, df=9)"
            ]
          },
          "metadata": {},
          "execution_count": 11
        }
      ]
    },
    {
      "cell_type": "markdown",
      "source": [
        "Now both the scores are from me only on different intervals, thats why we are using paired sample T-test\n",
        "Here also i got less p value, my mean values are different."
      ],
      "metadata": {
        "id": "GiNejtes0-Dw"
      }
    },
    {
      "cell_type": "markdown",
      "source": [
        "## **Anova** \n",
        "\n",
        "\n",
        "1.   Tests whether the means of two or more independent samples are significantly different\n",
        "2.   **Assumption**: Normal Distribution, same variance, identical distribution\n",
        "\n",
        "\n",
        "\n",
        "\n",
        "\n"
      ],
      "metadata": {
        "id": "cjD1TWqo1gM9"
      }
    },
    {
      "cell_type": "code",
      "source": [
        "average_score = [40,44,60,50,48,68,55,46,44,54]"
      ],
      "metadata": {
        "id": "2rDbNaLhztxV"
      },
      "execution_count": null,
      "outputs": []
    },
    {
      "cell_type": "code",
      "source": [
        "tstat,p = scipy.stats.f_oneway(my_score, average_score, virat_score)\n",
        "print('tstat=%.3f, p=%.3f' % (tstat, p))\n",
        "if p>0.05:\n",
        "  print('same distribution of scores')\n",
        "else:\n",
        "  print('Different distributions of score')"
      ],
      "metadata": {
        "colab": {
          "base_uri": "https://localhost:8080/"
        },
        "id": "92EkiLFx2kjG",
        "outputId": "794e6b35-65da-4874-fad9-fc836d6a2e20"
      },
      "execution_count": null,
      "outputs": [
        {
          "output_type": "stream",
          "name": "stdout",
          "text": [
            "tstat=30.173, p=0.000\n",
            "Different distributions of score\n"
          ]
        }
      ]
    },
    {
      "cell_type": "code",
      "source": [
        "stat,p = scipy.stats.f_oneway(my_score, average_score, virat_score)\n",
        "print('stat=%.3f, p=%.3f' % (stat, p))\n",
        "if p>0.05:\n",
        "  print('same distribution of scores')\n",
        "else:\n",
        "  print('Different distributions of score')"
      ],
      "metadata": {
        "colab": {
          "base_uri": "https://localhost:8080/"
        },
        "id": "KlfyICLW3WGY",
        "outputId": "0e701c63-e37d-42c5-abaf-38caeed71e24"
      },
      "execution_count": null,
      "outputs": [
        {
          "output_type": "stream",
          "name": "stdout",
          "text": [
            "stat=30.173, p=0.000\n",
            "Different distributions of score\n"
          ]
        }
      ]
    },
    {
      "cell_type": "markdown",
      "source": [
        "## **Non_parametric test**: Mann Whitney U-Test\n",
        "\n",
        "\n",
        "1.   Tests whether the distributions of two or more independent samples are equal or not\n",
        "2.   Assumption: Identical distribution, observation can be ranked\n",
        "3.   Non-parametric means it not assume data is normally distributed\n",
        "\n"
      ],
      "metadata": {
        "id": "-1Iz5cRL5v6L"
      }
    },
    {
      "cell_type": "code",
      "source": [
        "class_1_score = [91,90,81,80,76]\n",
        "class_2_score = [88,86,85,84,83]"
      ],
      "metadata": {
        "id": "KYWFV8N-5JWY"
      },
      "execution_count": 2,
      "outputs": []
    },
    {
      "cell_type": "code",
      "source": [
        "import scipy\n",
        "stat, p = scipy.stats.mannwhitneyu(class_1_score, class_2_score)\n",
        "print('stat=%.3f, p=%.3f' % (stat, p))\n",
        "if p>0.05:\n",
        "  print('Same Distribution')\n",
        "else:\n",
        "  print('Different Distribution')"
      ],
      "metadata": {
        "colab": {
          "base_uri": "https://localhost:8080/"
        },
        "id": "AxiSMN5Do2bZ",
        "outputId": "71e7d473-8e3f-4b44-9a08-3df2108e1e02"
      },
      "execution_count": 5,
      "outputs": [
        {
          "output_type": "stream",
          "name": "stdout",
          "text": [
            "stat=10.000, p=0.690\n",
            "Same Distribution\n"
          ]
        }
      ]
    },
    {
      "cell_type": "markdown",
      "source": [
        "## Test of Stationarity (For Time Series analysis)\n",
        "1. Augmented Dicky-fuller test: Null Hypothesis-Series is not stationary\n",
        "2. Def of stationary time series: constant mean and variance over a period of time"
      ],
      "metadata": {
        "id": "n5gWRSMArn2w"
      }
    },
    {
      "cell_type": "code",
      "source": [
        "from statsmodels.tsa.stattools import adfuller\n",
        "stock_price_data = [121,131,142,138,139,142,156,168,165]\n",
        "stat, p, lags, obs, crit, t = adfuller(stock_price_data)\n",
        "\n",
        "print('stat=%.3f, p=%.3f' % (stat, p))\n",
        "if p>0.05:\n",
        "  print('Series is not stationary')\n",
        "else:\n",
        "  print('Series is stationary')"
      ],
      "metadata": {
        "colab": {
          "base_uri": "https://localhost:8080/"
        },
        "id": "CSdf2k2kps0g",
        "outputId": "046c0c00-c245-4c90-f59a-6a6b6ab80d98"
      },
      "execution_count": 6,
      "outputs": [
        {
          "output_type": "stream",
          "name": "stdout",
          "text": [
            "stat=-0.949, p=0.772\n",
            "Series is not stationary\n"
          ]
        }
      ]
    },
    {
      "cell_type": "code",
      "source": [
        "stock_price_data = [121,131,142,121,131,142,121,131,142]\n",
        "stat, p, lags, obs, crit, t = adfuller(stock_price_data)\n",
        "\n",
        "print('stat=%.3f, p=%.3f' % (stat, p))\n",
        "if p>0.05:\n",
        "  print('Series is not stationary')\n",
        "else:\n",
        "  print('Series is stationary')"
      ],
      "metadata": {
        "colab": {
          "base_uri": "https://localhost:8080/"
        },
        "id": "D8sIg2HetTvu",
        "outputId": "a2bc4143-a007-48c2-c53a-97adf015ed57"
      },
      "execution_count": 7,
      "outputs": [
        {
          "output_type": "stream",
          "name": "stdout",
          "text": [
            "stat=-3118828938962.603, p=0.000\n",
            "Series is stationary\n"
          ]
        }
      ]
    },
    {
      "cell_type": "markdown",
      "source": [
        "## END"
      ],
      "metadata": {
        "id": "6V9DrCxEx6sZ"
      }
    },
    {
      "cell_type": "code",
      "source": [],
      "metadata": {
        "id": "Uh1s-d3_x8To"
      },
      "execution_count": null,
      "outputs": []
    }
  ]
}