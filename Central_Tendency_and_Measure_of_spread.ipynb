{
  "nbformat": 4,
  "nbformat_minor": 0,
  "metadata": {
    "colab": {
      "provenance": []
    },
    "kernelspec": {
      "name": "python3",
      "display_name": "Python 3"
    },
    "language_info": {
      "name": "python"
    }
  },
  "cells": [
    {
      "cell_type": "code",
      "execution_count": null,
      "metadata": {
        "id": "ms3tj7rdz8KJ"
      },
      "outputs": [],
      "source": [
        "import numpy as np\n",
        "import matplotlib.pyplot as plt"
      ]
    },
    {
      "cell_type": "markdown",
      "source": [
        "### Central Tendency"
      ],
      "metadata": {
        "id": "0iRZpzDR1kFb"
      }
    },
    {
      "cell_type": "code",
      "source": [
        "m = np.random.randint(7, 10, 20)\n",
        "\n",
        "print(m)"
      ],
      "metadata": {
        "colab": {
          "base_uri": "https://localhost:8080/"
        },
        "id": "f0m79lrP1iB7",
        "outputId": "dc952d3c-ba87-4309-9c0c-904c4e456d35"
      },
      "execution_count": null,
      "outputs": [
        {
          "output_type": "stream",
          "name": "stdout",
          "text": [
            "[8 8 9 8 7 7 7 8 9 9 8 7 9 8 8 9 8 8 9 8]\n"
          ]
        }
      ]
    },
    {
      "cell_type": "code",
      "source": [
        "from IPython.display import Image\n",
        "Image(filename='download.png')"
      ],
      "metadata": {
        "colab": {
          "base_uri": "https://localhost:8080/",
          "height": 195
        },
        "id": "Dxd_OyW312V2",
        "outputId": "476e4512-6b1a-4cf7-8414-22440354d50b"
      },
      "execution_count": null,
      "outputs": [
        {
          "output_type": "execute_result",
          "data": {
            "image/png": "[encoded data removed]",
            "text/plain": [
              "<IPython.core.display.Image object>"
            ]
          },
          "metadata": {},
          "execution_count": 3
        }
      ]
    },
    {
      "cell_type": "code",
      "source": [
        "np.mean(m)"
      ],
      "metadata": {
        "colab": {
          "base_uri": "https://localhost:8080/"
        },
        "id": "MZF21lND3edB",
        "outputId": "122984ad-242e-46b5-d12a-8b642382dfdb"
      },
      "execution_count": null,
      "outputs": [
        {
          "output_type": "execute_result",
          "data": {
            "text/plain": [
              "8.1"
            ]
          },
          "metadata": {},
          "execution_count": 4
        }
      ]
    },
    {
      "cell_type": "code",
      "source": [
        "np.median(m)"
      ],
      "metadata": {
        "colab": {
          "base_uri": "https://localhost:8080/"
        },
        "id": "Te9mIlwl3xjv",
        "outputId": "9b1c6da3-8301-4261-8db1-50e90e89c2ee"
      },
      "execution_count": null,
      "outputs": [
        {
          "output_type": "execute_result",
          "data": {
            "text/plain": [
              "8.0"
            ]
          },
          "metadata": {},
          "execution_count": 5
        }
      ]
    },
    {
      "cell_type": "code",
      "source": [
        "from statistics import mode\n",
        "\n",
        "mode(m)"
      ],
      "metadata": {
        "colab": {
          "base_uri": "https://localhost:8080/"
        },
        "id": "5MQ5MQ3v4YAr",
        "outputId": "d016234c-0c8e-4694-e70a-9e2e4da75eea"
      },
      "execution_count": null,
      "outputs": [
        {
          "output_type": "execute_result",
          "data": {
            "text/plain": [
              "8"
            ]
          },
          "metadata": {},
          "execution_count": 6
        }
      ]
    },
    {
      "cell_type": "code",
      "source": [
        "population = np.random.randint(10,20,100)\n",
        "population"
      ],
      "metadata": {
        "colab": {
          "base_uri": "https://localhost:8080/"
        },
        "id": "2aU730Re5CD8",
        "outputId": "c7083ea8-e1ed-4b4b-9c4e-c6b749d2a40f"
      },
      "execution_count": null,
      "outputs": [
        {
          "output_type": "execute_result",
          "data": {
            "text/plain": [
              "array([19, 18, 17, 11, 17, 13, 11, 16, 11, 16, 19, 14, 14, 15, 19, 18, 15,\n",
              "       11, 12, 15, 12, 11, 14, 15, 17, 16, 12, 14, 18, 17, 14, 11, 14, 19,\n",
              "       15, 10, 17, 15, 10, 12, 11, 12, 11, 18, 17, 10, 13, 18, 13, 16, 11,\n",
              "       19, 12, 18, 13, 19, 16, 15, 15, 14, 11, 16, 11, 11, 10, 15, 10, 14,\n",
              "       16, 10, 19, 18, 14, 14, 13, 15, 14, 10, 10, 11, 16, 19, 19, 11, 10,\n",
              "       12, 14, 14, 10, 19, 15, 11, 17, 12, 19, 16, 10, 14, 12, 16])"
            ]
          },
          "metadata": {},
          "execution_count": 7
        }
      ]
    },
    {
      "cell_type": "code",
      "source": [
        "np.mean(population)"
      ],
      "metadata": {
        "colab": {
          "base_uri": "https://localhost:8080/"
        },
        "id": "_YiXfS006jVn",
        "outputId": "7af0e65a-6d38-4d29-d3c8-ca6db38cbd9d"
      },
      "execution_count": null,
      "outputs": [
        {
          "output_type": "execute_result",
          "data": {
            "text/plain": [
              "14.23"
            ]
          },
          "metadata": {},
          "execution_count": 8
        }
      ]
    },
    {
      "cell_type": "code",
      "source": [
        "np.median(population)"
      ],
      "metadata": {
        "colab": {
          "base_uri": "https://localhost:8080/"
        },
        "id": "0mHSCdJL67Bg",
        "outputId": "013835f5-5bb1-4df4-a8d4-60fa5c749252"
      },
      "execution_count": null,
      "outputs": [
        {
          "output_type": "execute_result",
          "data": {
            "text/plain": [
              "14.0"
            ]
          },
          "metadata": {},
          "execution_count": 9
        }
      ]
    },
    {
      "cell_type": "code",
      "source": [
        "mode(population)"
      ],
      "metadata": {
        "colab": {
          "base_uri": "https://localhost:8080/"
        },
        "id": "YVH9aLol6-5S",
        "outputId": "83328ac4-b1bd-49fd-d5e7-b985167b10e1"
      },
      "execution_count": null,
      "outputs": [
        {
          "output_type": "execute_result",
          "data": {
            "text/plain": [
              "11"
            ]
          },
          "metadata": {},
          "execution_count": 10
        }
      ]
    },
    {
      "cell_type": "code",
      "source": [
        "sample = np.random.choice(population, 20)\n",
        "sample"
      ],
      "metadata": {
        "colab": {
          "base_uri": "https://localhost:8080/"
        },
        "id": "FRYJbDZW7BNM",
        "outputId": "a9e50ca6-8748-4563-84ce-bbf499670683"
      },
      "execution_count": null,
      "outputs": [
        {
          "output_type": "execute_result",
          "data": {
            "text/plain": [
              "array([18, 14, 12, 15, 11, 16, 17, 18, 11, 14, 19, 10, 18, 16, 16, 17, 11,\n",
              "       15, 19, 18])"
            ]
          },
          "metadata": {},
          "execution_count": 11
        }
      ]
    },
    {
      "cell_type": "code",
      "source": [
        "np.mean(sample)"
      ],
      "metadata": {
        "colab": {
          "base_uri": "https://localhost:8080/"
        },
        "id": "mrDB16XP7inr",
        "outputId": "20af5ae7-f238-4300-92d1-7416907d14e9"
      },
      "execution_count": null,
      "outputs": [
        {
          "output_type": "execute_result",
          "data": {
            "text/plain": [
              "15.25"
            ]
          },
          "metadata": {},
          "execution_count": 12
        }
      ]
    },
    {
      "cell_type": "code",
      "source": [
        "np.median(sample)"
      ],
      "metadata": {
        "colab": {
          "base_uri": "https://localhost:8080/"
        },
        "id": "LtelpRd171gK",
        "outputId": "e612d1c6-0a85-454b-f0f8-483b15bf32e8"
      },
      "execution_count": null,
      "outputs": [
        {
          "output_type": "execute_result",
          "data": {
            "text/plain": [
              "16.0"
            ]
          },
          "metadata": {},
          "execution_count": 13
        }
      ]
    },
    {
      "cell_type": "code",
      "source": [
        "mode(sample)"
      ],
      "metadata": {
        "colab": {
          "base_uri": "https://localhost:8080/"
        },
        "id": "KLLV6IOl76mt",
        "outputId": "fdb5450c-2272-43b0-92c1-8ca4a81793e5"
      },
      "execution_count": null,
      "outputs": [
        {
          "output_type": "execute_result",
          "data": {
            "text/plain": [
              "18"
            ]
          },
          "metadata": {},
          "execution_count": 14
        }
      ]
    },
    {
      "cell_type": "code",
      "source": [
        "sample_1 = np.random.choice(population, 15)\n",
        "sample_2 = np.random.choice(population, 15)\n",
        "sample_3 = np.random.choice(population, 15)\n",
        "sample_4 = np.random.choice(population, 15)"
      ],
      "metadata": {
        "id": "Q6m8A4cl78pS"
      },
      "execution_count": null,
      "outputs": []
    },
    {
      "cell_type": "code",
      "source": [
        "all_samples = [sample, sample_1, sample_2, sample_3, sample_4]\n",
        "sample_mean=[]\n",
        "\n",
        "for i in all_samples:\n",
        "  sample_mean.append(np.mean(i))\n",
        "\n",
        "sample_mean"
      ],
      "metadata": {
        "colab": {
          "base_uri": "https://localhost:8080/"
        },
        "id": "a9GGBaH68hoO",
        "outputId": "e3746f57-f2c1-41f6-b896-55e427fa4b6f"
      },
      "execution_count": null,
      "outputs": [
        {
          "output_type": "execute_result",
          "data": {
            "text/plain": [
              "[15.25, 14.4, 13.466666666666667, 14.266666666666667, 15.133333333333333]"
            ]
          },
          "metadata": {},
          "execution_count": 16
        }
      ]
    },
    {
      "cell_type": "code",
      "source": [
        "np.mean(sample_mean)"
      ],
      "metadata": {
        "colab": {
          "base_uri": "https://localhost:8080/"
        },
        "id": "JKGxOQok9PNP",
        "outputId": "cd23c634-9fb5-4023-ed36-a0290f0dad44"
      },
      "execution_count": null,
      "outputs": [
        {
          "output_type": "execute_result",
          "data": {
            "text/plain": [
              "14.503333333333334"
            ]
          },
          "metadata": {},
          "execution_count": 17
        }
      ]
    },
    {
      "cell_type": "code",
      "source": [
        "np.mean(population)"
      ],
      "metadata": {
        "colab": {
          "base_uri": "https://localhost:8080/"
        },
        "id": "Am0FERj5-IiP",
        "outputId": "5356af67-8fc7-4ce3-c9fb-011b170c39ec"
      },
      "execution_count": null,
      "outputs": [
        {
          "output_type": "execute_result",
          "data": {
            "text/plain": [
              "14.23"
            ]
          },
          "metadata": {},
          "execution_count": 18
        }
      ]
    },
    {
      "cell_type": "markdown",
      "source": [
        "## Measure of variability"
      ],
      "metadata": {
        "id": "Q0FswWM71Ufy"
      }
    },
    {
      "cell_type": "code",
      "source": [
        "import numpy as np\n",
        "n = np.random.randn(9)\n",
        "n"
      ],
      "metadata": {
        "id": "A57rf5A--W9S",
        "colab": {
          "base_uri": "https://localhost:8080/"
        },
        "outputId": "b8809cda-b8dd-4ca2-c7ef-aea237ebcf79"
      },
      "execution_count": null,
      "outputs": [
        {
          "output_type": "execute_result",
          "data": {
            "text/plain": [
              "array([-1.79815614, -0.7030868 ,  0.65875932, -1.44419006, -0.27158152,\n",
              "        0.49731024,  0.5086122 , -2.36738609, -0.81073122])"
            ]
          },
          "metadata": {},
          "execution_count": 3
        }
      ]
    },
    {
      "cell_type": "code",
      "source": [
        "# Range\n",
        "\n",
        "np.max(n) - np.min(n)"
      ],
      "metadata": {
        "colab": {
          "base_uri": "https://localhost:8080/"
        },
        "id": "s-gJx7HX3IQS",
        "outputId": "5bbe4eea-1f40-4921-97c1-2269acdd9925"
      },
      "execution_count": null,
      "outputs": [
        {
          "output_type": "execute_result",
          "data": {
            "text/plain": [
              "3.026145409015757"
            ]
          },
          "metadata": {},
          "execution_count": 4
        }
      ]
    },
    {
      "cell_type": "code",
      "source": [
        "## first quartile\n",
        "\n",
        "Q1 = np.percentile(n,25)\n",
        "Q1"
      ],
      "metadata": {
        "colab": {
          "base_uri": "https://localhost:8080/"
        },
        "id": "NqK3ZDoE3i6N",
        "outputId": "ec5865b8-781d-49ff-ef7e-b9a2f72e23c7"
      },
      "execution_count": null,
      "outputs": [
        {
          "output_type": "execute_result",
          "data": {
            "text/plain": [
              "-1.4441900589174095"
            ]
          },
          "metadata": {},
          "execution_count": 6
        }
      ]
    },
    {
      "cell_type": "code",
      "source": [
        "## second quartile\n",
        "\n",
        "Q2 = np.percentile(n, 50)\n",
        "Q2"
      ],
      "metadata": {
        "colab": {
          "base_uri": "https://localhost:8080/"
        },
        "id": "J4Db3GJo6Lmr",
        "outputId": "338f3534-5182-45ea-d5a0-9a4cce9d9082"
      },
      "execution_count": null,
      "outputs": [
        {
          "output_type": "execute_result",
          "data": {
            "text/plain": [
              "-0.7030867959134333"
            ]
          },
          "metadata": {},
          "execution_count": 7
        }
      ]
    },
    {
      "cell_type": "code",
      "source": [
        "## Third quartile\n",
        "\n",
        "Q3 = np.percentile(n, 75)\n",
        "Q3"
      ],
      "metadata": {
        "colab": {
          "base_uri": "https://localhost:8080/"
        },
        "id": "U3WO8U7y6dGm",
        "outputId": "ad0f205c-2ee1-4e50-ecfa-8926e4c2f89f"
      },
      "execution_count": null,
      "outputs": [
        {
          "output_type": "execute_result",
          "data": {
            "text/plain": [
              "0.4973102423584467"
            ]
          },
          "metadata": {},
          "execution_count": 8
        }
      ]
    },
    {
      "cell_type": "code",
      "source": [
        "import seaborn as sns\n",
        "sns.boxplot(n);"
      ],
      "metadata": {
        "colab": {
          "base_uri": "https://localhost:8080/",
          "height": 430
        },
        "id": "JD8aIfCY6nB2",
        "outputId": "e078effe-738c-4efe-b8e6-36d17ab976f0"
      },
      "execution_count": null,
      "outputs": [
        {
          "output_type": "display_data",
          "data": {
            "text/plain": [
              "<Figure size 640x480 with 1 Axes>"
            ],
            "image/png": "[encoded data removed]"
          },
          "metadata": {}
        }
      ]
    },
    {
      "cell_type": "code",
      "source": [
        "# Inter Quartile range\n",
        "# IQR = Third quartile - First quartile\n",
        "\n",
        "IQR = Q3 - Q1\n",
        "IQR"
      ],
      "metadata": {
        "colab": {
          "base_uri": "https://localhost:8080/"
        },
        "id": "LQ_I_-lj67hj",
        "outputId": "dfd23b52-c55c-47fa-d1d3-b82b4e88e8a8"
      },
      "execution_count": null,
      "outputs": [
        {
          "output_type": "execute_result",
          "data": {
            "text/plain": [
              "1.9415003012758563"
            ]
          },
          "metadata": {},
          "execution_count": 10
        }
      ]
    },
    {
      "cell_type": "code",
      "source": [
        "population = np.random.randn(100)\n",
        "population"
      ],
      "metadata": {
        "colab": {
          "base_uri": "https://localhost:8080/"
        },
        "id": "ipn06ahL75u3",
        "outputId": "22f90c18-00f0-4ec3-f9ab-c6904eeef910"
      },
      "execution_count": null,
      "outputs": [
        {
          "output_type": "execute_result",
          "data": {
            "text/plain": [
              "array([ 1.02051019, -0.96465113,  0.22629232, -1.05478917,  0.2270608 ,\n",
              "       -0.95203876, -1.03452359, -0.15575056, -0.43957406, -1.2100143 ,\n",
              "        0.59652914, -0.26205423,  0.48756252,  0.86042245,  0.12101904,\n",
              "        0.49841991, -0.10674718,  3.61639265,  0.24112605,  0.81295329,\n",
              "       -0.40728079,  0.74889102,  0.55652717, -1.16143311,  0.25803541,\n",
              "        1.03945582,  1.68095785,  1.13207558, -0.19903931, -1.07144399,\n",
              "       -0.36312418, -0.49390047,  0.92449317, -1.21965456, -2.37169849,\n",
              "        0.33031571, -1.4448537 ,  1.22138843, -0.63179689, -1.63842816,\n",
              "        1.76127888, -2.05021425,  0.14638405, -1.99049578,  1.21663553,\n",
              "       -0.83481601,  0.57447323, -1.34267423,  0.4869396 ,  0.06227435,\n",
              "       -0.80917928,  0.28111185,  1.48033591,  0.20953371, -0.91082404,\n",
              "        0.57549847, -0.40656852, -2.66987894, -0.88765181,  0.1994535 ,\n",
              "        0.25676969,  0.18996554, -1.03252294,  0.25285117, -1.52853676,\n",
              "        2.43631661, -0.74850607, -1.20467664, -0.61671613, -0.24721663,\n",
              "        0.63639544,  0.29817067,  0.16003059, -0.27100486, -2.69404756,\n",
              "        0.18041246,  0.83952279,  1.65404082, -0.19019362, -1.70689448,\n",
              "       -1.88673183,  1.39774362,  2.55617494,  2.20578063, -0.79336073,\n",
              "       -0.52810254,  0.12104808,  1.16820045, -0.02711612,  0.46112507,\n",
              "        0.81365177,  2.03961243,  1.55192624,  0.09255207,  0.63251792,\n",
              "        0.42227685,  1.57973494,  0.17027494,  0.58807814,  0.73446389])"
            ]
          },
          "metadata": {},
          "execution_count": 11
        }
      ]
    },
    {
      "cell_type": "code",
      "source": [
        "sample = np.random.choice(population, 30)\n",
        "sample"
      ],
      "metadata": {
        "colab": {
          "base_uri": "https://localhost:8080/"
        },
        "id": "GawY2n-w_Jaw",
        "outputId": "94cbba92-902c-406a-d765-e81cd172f269"
      },
      "execution_count": null,
      "outputs": [
        {
          "output_type": "execute_result",
          "data": {
            "text/plain": [
              "array([-1.99049578, -1.99049578, -0.80917928, -0.36312418,  0.86042245,\n",
              "        0.17027494,  0.1994535 ,  2.03961243,  0.81295329, -1.03452359,\n",
              "       -1.52853676,  0.74889102,  1.76127888, -1.63842816,  1.21663553,\n",
              "        0.57447323, -1.21965456, -0.40728079, -1.34267423, -0.26205423,\n",
              "        0.57447323,  0.92449317,  0.28111185,  0.14638405, -0.40656852,\n",
              "       -1.34267423,  0.63251792, -0.24721663, -2.37169849, -0.91082404])"
            ]
          },
          "metadata": {},
          "execution_count": 12
        }
      ]
    },
    {
      "cell_type": "code",
      "source": [
        "np.var(population)"
      ],
      "metadata": {
        "colab": {
          "base_uri": "https://localhost:8080/"
        },
        "id": "17cv2VFR_Xou",
        "outputId": "c24c0ddb-d0d9-47a4-d855-cf25c71768c0"
      },
      "execution_count": null,
      "outputs": [
        {
          "output_type": "execute_result",
          "data": {
            "text/plain": [
              "1.3102529379655288"
            ]
          },
          "metadata": {},
          "execution_count": 13
        }
      ]
    },
    {
      "cell_type": "code",
      "source": [
        "np.var(sample)"
      ],
      "metadata": {
        "colab": {
          "base_uri": "https://localhost:8080/"
        },
        "id": "4hp1VFv__gY0",
        "outputId": "8ddcb10c-d96a-4373-f70c-fab4376fdf06"
      },
      "execution_count": null,
      "outputs": [
        {
          "output_type": "execute_result",
          "data": {
            "text/plain": [
              "1.2667193513936716"
            ]
          },
          "metadata": {},
          "execution_count": 14
        }
      ]
    },
    {
      "cell_type": "code",
      "source": [
        "np.std(population)"
      ],
      "metadata": {
        "colab": {
          "base_uri": "https://localhost:8080/"
        },
        "id": "8Hx25HWe_ile",
        "outputId": "b9ee30d2-4466-47d3-b627-10e52e5f3ee6"
      },
      "execution_count": null,
      "outputs": [
        {
          "output_type": "execute_result",
          "data": {
            "text/plain": [
              "1.1446628053560266"
            ]
          },
          "metadata": {},
          "execution_count": 15
        }
      ]
    },
    {
      "cell_type": "code",
      "source": [
        "np.std(sample)"
      ],
      "metadata": {
        "colab": {
          "base_uri": "https://localhost:8080/"
        },
        "id": "l0hc3PeJA-Vs",
        "outputId": "8248dbe3-6265-4984-fcb9-7eb9f63d4aec"
      },
      "execution_count": null,
      "outputs": [
        {
          "output_type": "execute_result",
          "data": {
            "text/plain": [
              "1.1254862733030873"
            ]
          },
          "metadata": {},
          "execution_count": 16
        }
      ]
    },
    {
      "cell_type": "markdown",
      "source": [
        "## End"
      ],
      "metadata": {
        "id": "5-2nMKXlCWiP"
      }
    }
  ]
}